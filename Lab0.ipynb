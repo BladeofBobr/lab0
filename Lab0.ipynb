{
 "cells": [
  {
   "cell_type": "code",
   "execution_count": 7,
   "id": "3d8e80c5-dbc6-47e7-a3b2-6251c36ca7c0",
   "metadata": {},
   "outputs": [
    {
     "name": "stdout",
     "output_type": "stream",
     "text": [
      "Ваш номер варіанту: 9\n"
     ]
    }
   ],
   "source": [
    "N = ord(\"D\") % 10 + 1\n",
    "print(\"Ваш номер варіанту:\", N)"
   ]
  },
  {
   "cell_type": "code",
   "execution_count": 9,
   "id": "d35f9346-81f6-4d35-baed-bfc8e445bb21",
   "metadata": {},
   "outputs": [
    {
     "data": {
      "text/markdown": [
       "\n",
       "# Чеська Республіка\n",
       "\n",
       "# Додаємо стиль для рамки та відступів у блоці з інформацією про країну\n",
       "<div style=\"border: 2px solid black; padding: 10px; margin: 5px;\">\n",
       "    <h2 style=\"color: #0033cc;\">Загальна інформація</h2>\n",
       "    <ul>\n",
       "        <li><b>Столиця:</b> Прага</li>\n",
       "        <li><b>Площа:</b> 78,866 км²</li>\n",
       "        <li><b>Населення:</b> ~10,9 мільйонів</li>\n",
       "        <li><b>Державний устрій:</b> <i>парламентська республіка</i></li>\n",
       "        <li><b>Офіційна мова:</b> чеська</li>\n",
       "        <li><b>Інші факти:</b>\n",
       "            <ul>\n",
       "                <li>Чехія — одна з найпопулярніших туристичних країн Європи.</li>\n",
       "                <li>Відома своєю архітектурною спадщиною, зокрема середньовічними замками.</li>\n",
       "            </ul>\n",
       "        </li>\n",
       "    </ul>\n",
       "</div>\n",
       "\n",
       "# Список видатних особистостей Чеської Республіки\n",
       "## Видатні особистості\n",
       "- **Франц Кафка** – письменник, один із найвідоміших представників модернізму.\n",
       "- **Ярослав Гейровський** – хімік, лауреат Нобелівської премії з хімії.\n",
       "- **Антонін Дворжак** – композитор, автор симфоній, концертів та опер.\n",
       "\n",
       "# Перелік визначних культурних та природних пам'яток Чехії\n",
       "## Пам'ятки культури та природи\n",
       "1. **Карлів міст** у Празі\n",
       "2. **Замок Карлштейн**\n",
       "3. **Національний парк Чеська Швейцарія**\n",
       "4. **Кутна Гора** (внесена до списку Світової спадщини ЮНЕСКО)\n",
       "\n",
       "# Таблиця з цікавими фактами про різні міста Чехії та її пам'ятками\n",
       "### Таблиця цікавинок\n",
       "\n",
       "| Місто       | Визначне місце              | Рік заснування |\n",
       "|-------------|------------------------------|----------------|\n",
       "| Прага       | Карлів міст                  | 1357          |\n",
       "| Брно        | Собор святого Петра і Павла  | XIII століття |\n",
       "| Чеський Крумлов | Замок Чеського Крумлова | XIV століття  |\n",
       "\n",
       "# Гіперпосилання на офіційний туристичний портал Чехії\n",
       "### Гіперпосилання\n",
       "[Офіційний туристичний портал Чехії](https://www.visitczechrepublic.com/)\n",
       "\n",
       "# SVG графіка з зображенням прапора Чеської Республіки\n",
       "### Прапор Чеської Республіки\n",
       "\n",
       "<svg width=\"300\" height=\"200\">\n",
       "  <rect width=\"300\" height=\"100\" fill=\"white\"/>\n",
       "  <rect y=\"100\" width=\"300\" height=\"100\" fill=\"red\"/>\n",
       "  <polygon points=\"0,0 150,100 0,200\" fill=\"blue\"/>\n",
       "</svg>\n",
       "\n",
       "# Зображення замку у Чехії, представленого у форматі base64\n",
       "![Чеський замок](data:data:image/jpeg;base64,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)\n"
      ],
      "text/plain": [
       "<IPython.core.display.Markdown object>"
      ]
     },
     "metadata": {},
     "output_type": "display_data"
    }
   ],
   "source": [
    "# Використання модуля IPython для виведення елементів Markdown\n",
    "from IPython.display import display, Markdown\n",
    "\n",
    "# Виведення елементів Markdown на сторінку. Тут розміщено різні інформаційні блоки та форматування тексту для представлення інформації про Чеську Республіку\n",
    "display(Markdown(\"\"\"\n",
    "# Чеська Республіка\n",
    "\n",
    "# Додаємо стиль для рамки та відступів у блоці з інформацією про країну\n",
    "<div style=\"border: 2px solid black; padding: 10px; margin: 5px;\">\n",
    "    <h2 style=\"color: #0033cc;\">Загальна інформація</h2>\n",
    "    <ul>\n",
    "        <li><b>Столиця:</b> Прага</li>\n",
    "        <li><b>Площа:</b> 78,866 км²</li>\n",
    "        <li><b>Населення:</b> ~10,9 мільйонів</li>\n",
    "        <li><b>Державний устрій:</b> <i>парламентська республіка</i></li>\n",
    "        <li><b>Офіційна мова:</b> чеська</li>\n",
    "        <li><b>Інші факти:</b>\n",
    "            <ul>\n",
    "                <li>Чехія — одна з найпопулярніших туристичних країн Європи.</li>\n",
    "                <li>Відома своєю архітектурною спадщиною, зокрема середньовічними замками.</li>\n",
    "            </ul>\n",
    "        </li>\n",
    "    </ul>\n",
    "</div>\n",
    "\n",
    "# Список видатних особистостей Чеської Республіки\n",
    "## Видатні особистості\n",
    "- **Франц Кафка** – письменник, один із найвідоміших представників модернізму.\n",
    "- **Ярослав Гейровський** – хімік, лауреат Нобелівської премії з хімії.\n",
    "- **Антонін Дворжак** – композитор, автор симфоній, концертів та опер.\n",
    "\n",
    "# Перелік визначних культурних та природних пам'яток Чехії\n",
    "## Пам'ятки культури та природи\n",
    "1. **Карлів міст** у Празі\n",
    "2. **Замок Карлштейн**\n",
    "3. **Національний парк Чеська Швейцарія**\n",
    "4. **Кутна Гора** (внесена до списку Світової спадщини ЮНЕСКО)\n",
    "\n",
    "# Таблиця з цікавими фактами про різні міста Чехії та її пам'ятками\n",
    "### Таблиця цікавинок\n",
    "\n",
    "| Місто       | Визначне місце              | Рік заснування |\n",
    "|-------------|------------------------------|----------------|\n",
    "| Прага       | Карлів міст                  | 1357          |\n",
    "| Брно        | Собор святого Петра і Павла  | XIII століття |\n",
    "| Чеський Крумлов | Замок Чеського Крумлова | XIV століття  |\n",
    "\n",
    "# Гіперпосилання на офіційний туристичний портал Чехії\n",
    "### Гіперпосилання\n",
    "[Офіційний туристичний портал Чехії](https://www.visitczechrepublic.com/)\n",
    "\n",
    "# SVG графіка з зображенням прапора Чеської Республіки\n",
    "### Прапор Чеської Республіки\n",
    "\n",
    "<svg width=\"300\" height=\"200\">\n",
    "  <rect width=\"300\" height=\"100\" fill=\"white\"/>\n",
    "  <rect y=\"100\" width=\"300\" height=\"100\" fill=\"red\"/>\n",
    "  <polygon points=\"0,0 150,100 0,200\" fill=\"blue\"/>\n",
    "</svg>\n",
    "\n",
    "# Зображення замку у Чехії, представленого у форматі base64\n",
    "![Чеський замок](data:data:image/jpeg;base64,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)\n",
    "\"\"\"))\n"
   ]
  },
  {
   "cell_type": "code",
   "execution_count": 15,
   "id": "997adf57-a8c5-4b4f-ad62-3aff14eb4627",
   "metadata": {},
   "outputs": [
    {
     "name": "stdout",
     "output_type": "stream",
     "text": [
      "Приклад 1:\n",
      "Непрості числа, відсортовані за зменшенням: [35, 18, 15, 12]\n",
      "Приклад 2:\n",
      "Непрості числа, відсортовані за зменшенням: [34, 22, 15, 6, 4]\n"
     ]
    },
    {
     "data": {
      "text/plain": [
       "[34, 22, 15, 6, 4]"
      ]
     },
     "execution_count": 15,
     "metadata": {},
     "output_type": "execute_result"
    }
   ],
   "source": [
    "import sympy\n",
    "\n",
    "def task_9(numbers):\n",
    "    # Перевірка введених значень\n",
    "    try:\n",
    "        num_list = [int(n) for n in numbers.split()]\n",
    "    except ValueError:\n",
    "        print(\"Помилка: введіть цілі числа, розділені пробілами.\")\n",
    "        return\n",
    "    \n",
    "    # Фільтруємо тільки непрості числа\n",
    "    non_prime_numbers = [n for n in num_list if not sympy.isprime(n) and n > 1]\n",
    "    \n",
    "    # Сортуємо за зменшенням\n",
    "    non_prime_numbers.sort(reverse=True)\n",
    "    \n",
    "    print(\"Непрості числа, відсортовані за зменшенням:\", non_prime_numbers)\n",
    "    return non_prime_numbers\n",
    "\n",
    "print(\"Приклад 1:\")\n",
    "task_9(\"3 12 15 7 11 35 18\") \n",
    "\n",
    "print(\"Приклад 2:\")\n",
    "task_9(\"0 34 2 1 15 22 4 23 6\")\n"
   ]
  },
  {
   "cell_type": "code",
   "execution_count": null,
   "id": "1e7d54a6-b3d0-479e-a52f-c3f62d5bd8fa",
   "metadata": {},
   "outputs": [],
   "source": []
  }
 ],
 "metadata": {
  "kernelspec": {
   "display_name": "Python 3 (ipykernel)",
   "language": "python",
   "name": "python3"
  },
  "language_info": {
   "codemirror_mode": {
    "name": "ipython",
    "version": 3
   },
   "file_extension": ".py",
   "mimetype": "text/x-python",
   "name": "python",
   "nbconvert_exporter": "python",
   "pygments_lexer": "ipython3",
   "version": "3.12.7"
  }
 },
 "nbformat": 4,
 "nbformat_minor": 5
}
